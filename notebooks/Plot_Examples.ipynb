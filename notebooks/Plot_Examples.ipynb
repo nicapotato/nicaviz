{
 "cells": [
  {
   "cell_type": "markdown",
   "metadata": {},
   "source": [
    "# Nicaviz Demo\n",
    "\n",
    "_By Nicapotato_"
   ]
  },
  {
   "cell_type": "code",
   "execution_count": null,
   "metadata": {},
   "outputs": [],
   "source": [
    "%reload_ext autoreload\n",
    "%autoreload 2\n",
    "%load_ext watermark"
   ]
  },
  {
   "cell_type": "code",
   "execution_count": null,
   "metadata": {},
   "outputs": [],
   "source": [
    "import pandas as pd\n",
    "import numpy as np\n",
    "from numpy import random\n",
    "import nicaviz\n",
    "import seaborn as sns\n",
    "import time\n",
    "\n",
    "notebookstart = time.time()\n",
    "\n",
    "sns.set_style(\"whitegrid\")\n",
    "\n",
    "%watermark \n",
    "%watermark --iversions"
   ]
  },
  {
   "cell_type": "code",
   "execution_count": null,
   "metadata": {},
   "outputs": [],
   "source": [
    "def random_dates(start, end, n=10):\n",
    "\n",
    "    start_u = start.value//10**9\n",
    "    end_u = end.value//10**9\n",
    "\n",
    "    return pd.to_datetime(np.random.randint(start_u, end_u, n), unit='s')\n",
    "\n",
    "DFLEN = 5000\n",
    "df = pd.DataFrame({\n",
    "    'int_small': random.randint(low=0, high=5, size=DFLEN),\n",
    "    'int_med': random.randint(low=0, high=20, size=DFLEN),\n",
    "    'str_med': random.choice([\"a\",\"b\",\"c\",\"d\",\"e\",\"f\",\"g\"], size=DFLEN),\n",
    "    'str_med_two': random.choice([x for x in \"qwerty\"], size=DFLEN),\n",
    "    'str_small': random.choice([\"blue\",\"red\"], size=DFLEN),\n",
    "    'bool': random.choice([True,False], size=DFLEN),\n",
    "    'cont_rand': random.random(size=DFLEN)*10,\n",
    "    'cont_uni': random.normal(loc=0, scale=1, size=DFLEN)*10,\n",
    "    'date': pd.date_range(start='1/1/2018', periods=DFLEN),\n",
    "    'timestamp': random_dates(pd.to_datetime('2018-01-01'), pd.to_datetime('2018-03-01'), n=DFLEN)\n",
    "    })\n",
    "\n",
    "display(df.sample(10))"
   ]
  },
  {
   "cell_type": "code",
   "execution_count": null,
   "metadata": {},
   "outputs": [],
   "source": [
    "df.head()"
   ]
  },
  {
   "cell_type": "code",
   "execution_count": null,
   "metadata": {
    "scrolled": true
   },
   "outputs": [],
   "source": [
    "df.nica.categorical_describe()"
   ]
  },
  {
   "cell_type": "code",
   "execution_count": null,
   "metadata": {},
   "outputs": [],
   "source": [
    "df.nica.mass_plot(\n",
    "    plt_set= [\"int_small\", \"int_med\"],\n",
    "    plottype = \"countplot\")"
   ]
  },
  {
   "cell_type": "code",
   "execution_count": null,
   "metadata": {},
   "outputs": [],
   "source": [
    "df.nica.mass_plot(\n",
    "    plt_set= [\"cont_rand\", \"cont_uni\"],\n",
    "    x_var = \"str_small\",\n",
    "    plottype = \"bar\")"
   ]
  },
  {
   "cell_type": "code",
   "execution_count": null,
   "metadata": {},
   "outputs": [],
   "source": [
    "df.nica.mass_plot(\n",
    "    plt_set= [\"cont_rand\", \"cont_uni\"],\n",
    "    plottype = \"boxplot\")\n",
    "\n",
    "df.nica.mass_plot(\n",
    "    plt_set= [\"cont_rand\", \"cont_uni\"],\n",
    "    hue = \"str_small\",\n",
    "    plottype = \"boxplot\")"
   ]
  },
  {
   "cell_type": "code",
   "execution_count": null,
   "metadata": {},
   "outputs": [],
   "source": [
    "df.nica.mass_plot(\n",
    "    plt_set= [\"cont_rand\", \"cont_uni\"],\n",
    "    plottype = \"distplot\")\n",
    "\n",
    "df.nica.mass_plot(\n",
    "    plt_set= [\"cont_rand\", \"cont_uni\"],\n",
    "    hue = \"str_small\",\n",
    "    plottype = \"distplot\")"
   ]
  },
  {
   "cell_type": "code",
   "execution_count": null,
   "metadata": {},
   "outputs": [],
   "source": [
    "df.nica.mass_plot(\n",
    "    plt_set= [\"cont_rand\", \"cont_uni\"],\n",
    "    hue = \"int_small\",\n",
    "    plottype = \"distplot\")"
   ]
  },
  {
   "cell_type": "code",
   "execution_count": null,
   "metadata": {},
   "outputs": [],
   "source": [
    "df.nica.mass_plot(\n",
    "    plt_set= [\"int_small\", \"int_med\"],\n",
    "    hue = \"str_small\",\n",
    "    plottype = \"countplot\")\n",
    "\n",
    "df.nica.mass_plot(\n",
    "    plt_set= [\"int_small\", \"int_med\"],\n",
    "    plottype = \"countplot\")"
   ]
  },
  {
   "cell_type": "markdown",
   "metadata": {},
   "source": [
    "### Time Series"
   ]
  },
  {
   "cell_type": "code",
   "execution_count": null,
   "metadata": {},
   "outputs": [],
   "source": [
    "df.nica.mass_plot(\n",
    "    plt_set= [\"timestamp\", \"date\"],\n",
    "    plottype = \"ts_resample\",\n",
    "    resample=True,\n",
    "    resample_interval=\"1D\"\n",
    ")"
   ]
  },
  {
   "cell_type": "code",
   "execution_count": null,
   "metadata": {},
   "outputs": [],
   "source": [
    "df.nica.mass_plot(\n",
    "    plt_set= [\"timestamp\", \"date\"],\n",
    "    plottype = \"ts_resample\",\n",
    "    resample=True,\n",
    "    hue = \"str_small\",\n",
    "    resample_interval=\"1M\"\n",
    ")"
   ]
  },
  {
   "cell_type": "code",
   "execution_count": null,
   "metadata": {},
   "outputs": [],
   "source": [
    "df.nica.mass_plot(\n",
    "    plt_set= [\"cont_rand\", \"cont_uni\"],\n",
    "    plottype = \"ts_rolling\",\n",
    "    x_var=\"date\",\n",
    "    rolling=True,\n",
    "    r=7\n",
    ")"
   ]
  },
  {
   "cell_type": "code",
   "execution_count": null,
   "metadata": {},
   "outputs": [],
   "source": [
    "df.nica.mass_plot(\n",
    "    plt_set= [\"cont_rand\", \"cont_uni\"],\n",
    "    plottype = \"ts_rolling\",\n",
    "    hue = \"str_small\",\n",
    "    x_var=\"date\",\n",
    "    rolling=True,\n",
    "    r=7\n",
    ")"
   ]
  },
  {
   "cell_type": "markdown",
   "metadata": {},
   "source": [
    "### WordClouds"
   ]
  },
  {
   "cell_type": "code",
   "execution_count": null,
   "metadata": {},
   "outputs": [],
   "source": [
    "df.nica.mass_plot(\n",
    "    plt_set= [\"str_small\", \"str_med\"],\n",
    "    plottype = \"wordcloud\")"
   ]
  },
  {
   "cell_type": "markdown",
   "metadata": {},
   "source": [
    "### Rank Correlations"
   ]
  },
  {
   "cell_type": "code",
   "execution_count": null,
   "metadata": {},
   "outputs": [],
   "source": [
    "df.nica.rank_correlations_plots([\"cont_rand\", \"cont_uni\", \"int_small\", \"int_med\"], 9)"
   ]
  },
  {
   "cell_type": "markdown",
   "metadata": {},
   "source": [
    "### Pivot Heatmaps"
   ]
  },
  {
   "cell_type": "code",
   "execution_count": null,
   "metadata": {},
   "outputs": [],
   "source": [
    "categorical = ['int_small', 'int_med', 'str_med', 'str_med_two', 'str_small', 'bool']\n",
    "df.nica.pivot_plots(categorical, \"cont_rand\", np.sum)"
   ]
  },
  {
   "cell_type": "code",
   "execution_count": null,
   "metadata": {},
   "outputs": [],
   "source": [
    "df.nica.pivot_plots(categorical, \"cont_rand\", np.mean)"
   ]
  },
  {
   "cell_type": "code",
   "execution_count": null,
   "metadata": {},
   "outputs": [],
   "source": [
    "print(\"Notebook Runtime: %0.2f Minutes\"%((time.time() - notebookstart)/60))"
   ]
  }
 ],
 "metadata": {
  "interpreter": {
   "hash": "49ebe5adad91654f83318bc2664313849c74852af34cef00a2c6e3f8a1c5f402"
  },
  "kernelspec": {
   "display_name": "Python 3",
   "language": "python",
   "name": "python3"
  },
  "language_info": {
   "codemirror_mode": {
    "name": "ipython",
    "version": 3
   },
   "file_extension": ".py",
   "mimetype": "text/x-python",
   "name": "python",
   "nbconvert_exporter": "python",
   "pygments_lexer": "ipython3",
   "version": "3.7.7"
  }
 },
 "nbformat": 4,
 "nbformat_minor": 4
}
